{
 "cells": [
  {
   "cell_type": "markdown",
   "metadata": {},
   "source": [
    "# U.S. Medical Insurance Costs"
   ]
  },
  {
   "cell_type": "code",
   "execution_count": null,
   "metadata": {},
   "outputs": [],
   "source": [
    "#Project Question: \n",
    "    #rank the 4 regions by average insurance cost per personcccffss\n",
    "    \n",
    "    #def avg_ins_cost_per_person --Prints:\n",
    "    #rank1: <Region> , $$ins. cost/ person\n",
    "    #rank2: <Region, $$ins. cost/ person\n",
    "    #rank3: <Region>, $$ins. cost/person\n",
    "    #rank4: <Region>, $$ins. cost /person\n",
    "    "
   ]
  },
  {
   "cell_type": "code",
   "execution_count": 59,
   "metadata": {},
   "outputs": [
    {
     "name": "stdout",
     "output_type": "stream",
     "text": [
      "Regional Rankings of Average Insurance Costs:\n",
      "\n",
      "Rank #1: SouthEast has an Average Insurance Cost of $14735.41 and a per/capita cost of $11.01\n",
      "Rank #2: NorthEast has an Average Insurance Cost of $13406.38 and a per/capita cost of $10.02\n",
      "Rank #3: Northwest has an Average Insurance Cost of $12417.58 and a per/capita cost of $9.28\n",
      "Rank #4: Southwest has an Average Insurance Cost of $12346.94 and a per/capita cost of $9.23\n"
     ]
    }
   ],
   "source": [
    "#import csv library\n",
    "import csv\n",
    "\n",
    "#open insurance.csv file and create a list with (region, charge) pairs\n",
    "with open (r'/Users/dylanimal/Desktop/python-portfolio-project-starter-files/insurance.csv', newline = '') as insurance:\n",
    "    charges_list = []\n",
    "    region_list = []\n",
    "    reader = csv.DictReader(insurance)\n",
    "    for row in reader:\n",
    "        charges_list.append(row[\"charges\"])\n",
    "        region_list.append(row[\"region\"])\n",
    "    region_charges_list = list(zip(region_list, charges_list))\n",
    "\n",
    "def avg_ins_region_rank():\n",
    "    \n",
    "    total_charge_NE = 0\n",
    "    total_charge_SE = 0\n",
    "    total_charge_NW = 0\n",
    "    total_charge_SW = 0\n",
    "    average_charge = 0\n",
    "    count_NE = 0\n",
    "    count_NW = 0\n",
    "    count_SE = 0\n",
    "    count_SW = 0\n",
    "    for item1, item2 in region_charges_list:\n",
    "        if item1 == 'southwest':\n",
    "            total_charge_SW += (float(item2))\n",
    "            count_SW += 1\n",
    "            average_charge_SW = total_charge_SW/float(count_SW)\n",
    "            avg_ins_per_capita_SW = (average_charge_SW/len(region_charges_list))\n",
    "\n",
    "        if item1 == 'southeast':\n",
    "            total_charge_SE += (float(item2))\n",
    "            count_SE += 1\n",
    "            average_charge_SE = total_charge_SE/float(count_SE)\n",
    "            avg_ins_per_capita_SE = (average_charge_SE/len(region_charges_list))\n",
    "        if item1 == 'northeast':\n",
    "            total_charge_NE += (float(item2))\n",
    "            count_NE += 1\n",
    "            average_charge_NE = total_charge_NE/float(count_NE)\n",
    "            avg_ins_per_capita_NE = (average_charge_NE/len(region_charges_list))\n",
    "        if item1 == 'northwest':\n",
    "            total_charge_NW += (float(item2))\n",
    "            count_NW += 1\n",
    "            average_charge_NW = total_charge_NW/float(count_NW)\n",
    "            avg_ins_per_capita_NW = (average_charge_NW/len(region_charges_list))\n",
    "        \n",
    "    print(\"Regional Rankings of Average Insurance Costs:\")\n",
    "    print(\"\")\n",
    "    print(\"Rank #1: SouthEast has an Average Insurance Cost of $\" + str(format(average_charge_SE, \".2f\")) +\" and a per/capita cost of $\"+str(format(avg_ins_per_capita_SE, \".2f\")))\n",
    "    print(\"Rank #2: NorthEast has an Average Insurance Cost of $\" + str(format(average_charge_NE, \".2f\")) +\" and a per/capita cost of $\"+str(format(avg_ins_per_capita_NE, \".2f\")))\n",
    "    print(\"Rank #3: Northwest has an Average Insurance Cost of $\" + str(format(average_charge_NW, \".2f\")) +\" and a per/capita cost of $\"+str(format(avg_ins_per_capita_NW, \".2f\")))\n",
    "    print(\"Rank #4: Southwest has an Average Insurance Cost of $\" + str(format(average_charge_SW, \".2f\")) +\" and a per/capita cost of $\"+str(format(avg_ins_per_capita_SW, \".2f\")))\n",
    "\n",
    "\n",
    "avg_ins_region_rank()\n",
    "    "
   ]
  },
  {
   "cell_type": "code",
   "execution_count": null,
   "metadata": {},
   "outputs": [],
   "source": []
  },
  {
   "cell_type": "code",
   "execution_count": null,
   "metadata": {},
   "outputs": [],
   "source": [
    "\n"
   ]
  }
 ],
 "metadata": {
  "kernelspec": {
   "display_name": "Python 3 (ipykernel)",
   "language": "python",
   "name": "python3"
  },
  "language_info": {
   "codemirror_mode": {
    "name": "ipython",
    "version": 3
   },
   "file_extension": ".py",
   "mimetype": "text/x-python",
   "name": "python",
   "nbconvert_exporter": "python",
   "pygments_lexer": "ipython3",
   "version": "3.9.7"
  }
 },
 "nbformat": 4,
 "nbformat_minor": 4
}
